{
 "cells": [
  {
   "cell_type": "code",
   "execution_count": null,
   "metadata": {
    "slideshow": {
     "slide_type": "skip"
    }
   },
   "outputs": [],
   "source": [
    "# Run this cell to set up packages for lecture.\n",
    "from lec01_imports import *"
   ]
  },
  {
   "cell_type": "markdown",
   "metadata": {
    "slideshow": {
     "slide_type": "slide"
    }
   },
   "source": [
    "# Lecture 1 – Introduction\n",
    "\n",
    "## DSC 10, Spring 2024"
   ]
  },
  {
   "cell_type": "markdown",
   "metadata": {
    "slideshow": {
     "slide_type": "slide"
    }
   },
   "source": [
    "### Welcome to DSC 10! 👋\n",
    "- DSC 10 is a guided tour of data science.\n",
    "    - It was developed by UC Berkeley in 2015 and adapted by UCSD in 2017.\n",
    "- You'll learn just enough programming and statistics to do data science.\n",
    "    - We'll cover statistics without too much math – instead, we'll use simulation.\n",
    "    - This class lays the foundation for all other courses in the DSC major."
   ]
  },
  {
   "cell_type": "markdown",
   "metadata": {
    "slideshow": {
     "slide_type": "slide"
    }
   },
   "source": [
    "### Agenda\n",
    "\n",
    "- Course staff.\n",
    "- What is data science?\n",
    "- How will this course run?\n",
    "- Fun demo."
   ]
  },
  {
   "cell_type": "markdown",
   "metadata": {
    "slideshow": {
     "slide_type": "slide"
    }
   },
   "source": [
    "## Course staff"
   ]
  },
  {
   "cell_type": "markdown",
   "metadata": {
    "slideshow": {
     "slide_type": "slide"
    }
   },
   "source": [
    "### Instructor: Dr. Janine Tiefenbruck (call me Janine) \n",
    "- BS in Math and Computer Science at Loyola Maryland, PhD in Math (combinatorics) at UCSD 🔱.\n",
    "- Teaching at UCSD: Math ➡️ CSE ➡️ DSC.\n",
    "    - 12th time teaching DSC 10!\n",
    "    - Also teach DSC 40A often.\n",
    "- Outside interests: crafting, board games, hiking, baking 🎂."
   ]
  },
  {
   "cell_type": "markdown",
   "metadata": {
    "slideshow": {
     "slide_type": "-"
    }
   },
   "source": [
    "<center>\n",
    "    <table><tr>\n",
    "        <td> <img src=\"images/camping.jpg\" width=400>  </td>\n",
    "        <td> <img src=\"images/desserts.jpg\" width=220> </td>\n",
    "        <td> <img src=\"images/kids.jpg\" width=300> </td>\n",
    "    </tr></table>\n",
    "</center>"
   ]
  },
  {
   "cell_type": "markdown",
   "metadata": {
    "slideshow": {
     "slide_type": "slide"
    }
   },
   "source": [
    "### Course staff\n",
    "\n",
    "In addition, we have many other course staff members who are here to support you in discussion, office hours, and online.\n",
    "\n",
    "- **Graduate TA**: Arya Rahnama.\n",
    "- **Undergraduate tutors**: Daniel Budidharma, Oren Ciolli, Sophia Fang, Kate Feng, Charlie Gillet, Ashley Ho, Chia-Chan Ho, Raine Hoang, Michelle Hong, Jason Huynh, Norah Kerendian, Minchan Kim, Vivian Lin, Calvin Nguyen, Kathleen Nguyen, Athulith Paraselli, Pallavi Prabhu, Pranav Rajaram, Aaron Rasin, Keenan Serrao, Abel Seyoum, Yutian Shi, Sofia Tkachenko, Claire Wang, Sophie Wang, Cici Xu, Tiffany Yu, Ciro Zhang\n",
    "- **Stuffed panda mascot**: Baby Panda. 🐼\n",
    "\n",
    "Learn more about them at [dsc10.com/staff](https://dsc10.com/staff), and come say hi in office hours!"
   ]
  },
  {
   "cell_type": "markdown",
   "metadata": {
    "slideshow": {
     "slide_type": "slide"
    }
   },
   "source": [
    "## What is \"data science\"? 🤔"
   ]
  },
  {
   "cell_type": "markdown",
   "metadata": {
    "slideshow": {
     "slide_type": "slide"
    }
   },
   "source": [
    "<center><img src='images/data-science.png' width=1250>Everyone seems to have their own definition of data science.</center>"
   ]
  },
  {
   "cell_type": "markdown",
   "metadata": {
    "slideshow": {
     "slide_type": "slide"
    }
   },
   "source": [
    "### What is \"data science\"?\n",
    "\n",
    "Data science is about **drawing useful conclusions from data using computation**. Throughout the quarter, we'll touch on several aspects of data science:"
   ]
  },
  {
   "cell_type": "markdown",
   "metadata": {
    "slideshow": {
     "slide_type": "fragment"
    }
   },
   "source": [
    "- First 4 weeks: use Python to **explore** data.\n",
    "    - Lots of visualization 📈📊 and \"data manipulation\", using industry-standard tools."
   ]
  },
  {
   "cell_type": "markdown",
   "metadata": {
    "slideshow": {
     "slide_type": "fragment"
    }
   },
   "source": [
    "- Next 4 weeks: use data to **infer** about a population, given just a sample.\n",
    "    - Rely heavily on simulation, rather than formulas."
   ]
  },
  {
   "cell_type": "markdown",
   "metadata": {
    "slideshow": {
     "slide_type": "fragment"
    }
   },
   "source": [
    "- Last 2 weeks: use data from the past to **predict** what may happen in the future.\n",
    "    - A taste of machine learning 🤖."
   ]
  },
  {
   "cell_type": "markdown",
   "metadata": {
    "slideshow": {
     "slide_type": "slide"
    }
   },
   "source": [
    "### Data science is relevant 🤧\n",
    "\n",
    "We spent years looking at graphs like this:\n",
    "\n",
    "<center><img src='images/covid.png' width=65%></center>"
   ]
  },
  {
   "cell_type": "markdown",
   "metadata": {
    "slideshow": {
     "slide_type": "slide"
    }
   },
   "source": [
    "### It can be fun, too!\n",
    "\n",
    "The site [The Pudding](https://pudding.cool) is home to several interactive data-rich articles.\n",
    "\n",
    "<center><img src='images/vocab.png' width=75%>(<a href=\"https://pudding.cool/projects/vocabulary\">source</a>)</center>"
   ]
  },
  {
   "cell_type": "markdown",
   "metadata": {
    "slideshow": {
     "slide_type": "slide"
    }
   },
   "source": [
    "## Course logistics"
   ]
  },
  {
   "cell_type": "markdown",
   "metadata": {
    "slideshow": {
     "slide_type": "slide"
    }
   },
   "source": [
    "### Course website\n",
    "\n",
    "The course website is your one-stop-shop for all things related to the course.\n",
    "\n",
    "<center><h3><a href=\"https://dsc10.com\">dsc10.com</a></h3></center>\n",
    "\n",
    "This is where lectures, homeworks, labs, discussions, and all other content will be posted. Check it often, and **read the [syllabus](https://dsc10.com/syllabus)**!"
   ]
  },
  {
   "cell_type": "markdown",
   "metadata": {
    "slideshow": {
     "slide_type": "slide"
    }
   },
   "source": [
    "### Getting set up\n",
    "\n",
    "- **Ed**: Q&A forum. All announcements will be made here. You should have gotten email invitation; if not, [join here](https://edstem.org/us/join/ZKMd5E).\n",
    "- **Gradescope**: Where you will submit all assignments, and where all of your grades will live. You will be automatically added to Gradescope within 24 hours of enrolling in the course.\n",
    "- **DataHub**: Where you will access and run all code in this class. Access at [datahub.ucsd.edu](https://datahub.ucsd.edu). Learn how to use it in today's discussion section!\n",
    "- We will **not** be using Canvas for anything!"
   ]
  },
  {
   "cell_type": "markdown",
   "metadata": {
    "slideshow": {
     "slide_type": "slide"
    }
   },
   "source": [
    "### First tasks\n",
    "\n",
    "1. Fill out the required [Welcome Survey](https://forms.gle/Vg48rR7QVy4nZsNw9) as soon as possible. \n",
    "2. Take the [pretest](https://practice.dsc10.com/pretest/), which will help you gauge your preparedness, brush up on prerequisite knowledge, and learn test-taking skills. Solutions will be posted on Wednesday."
   ]
  },
  {
   "cell_type": "markdown",
   "metadata": {
    "slideshow": {
     "slide_type": "slide"
    }
   },
   "source": [
    "### Lecture\n",
    "\n",
    "- Lectures will be in-person and recorded for viewing afterwards.\n",
    "    - You can attend any lecture section, as long as there is space for the students officially enrolled in that section.\n",
    "    - Recordings can be found at [podcast.ucsd.edu](https://podcast.ucsd.edu) a few hours later.\n",
    "- Slides/code from lecture will be linked on the course website, both in a \"runnable\" code format and as an HTML file (✏️), which you can save as a PDF and annotate on your tablet.\n",
    "- We will try to make lectures engaging. **Bring your laptop or tablet**, if you have one."
   ]
  },
  {
   "cell_type": "markdown",
   "metadata": {
    "slideshow": {
     "slide_type": "slide"
    }
   },
   "source": [
    "### Concept Check ✅ – Answer at [cc.dsc10.com](http://cc.dsc10.com) \n",
    "\n",
    "**Is it acceptable to recline your seat on an airplane?**\n",
    "\n",
    "<center><img src='images/reclining.jpeg' width=35%></center>\n",
    "\n",
    "A. Yes, you paid for the seat! \n",
    "\n",
    "B. Only if the person in front of you reclined their seat first.\n",
    "\n",
    "C. Only if you ask the person behind you and they're fine with it.\n",
    "\n",
    "D. No, it's rude.\n",
    "\n",
    "_(We are always going to use the same link for Concept Checks, so you should bookmark it._)"
   ]
  },
  {
   "cell_type": "markdown",
   "metadata": {
    "slideshow": {
     "slide_type": "slide"
    }
   },
   "source": [
    "### Discussion \n",
    "\n",
    "- The first discussion section is **Wednesday**. Our TA, Arya, will help you get set up with Jupyter notebooks, the programming environment we'll be using all quarter.\n",
    "- In future discussions, you will practice with the **conceptual ideas** in the course and prepare for quizzes and exams by working through **past quiz and exam problems** (see [practice.dsc10.com](https://practice.dsc10.com)). \n",
    "    - Problem sets are posted online, so bring a computer or tablet to access them. But like quizzes and exams, you will answer the problems **on paper**.\n",
    "    - Problem sets aren't submitted anywhere.\n",
    "    - No podcasting; you need to be an active participant in these sessions to benefit.\n",
    "- You can attend any section that works with your schedule, subject to availability of seats.\n",
    "    - Section A: Wednesday 2-2:50PM in [Center 109](https://map.concept3d.com/?id=1005#!ct/18312,63891,65653?m/163044?s/CENTR_Main?sbc/)\n",
    "    - Section B: Wednesday 3-3:50PM in [Center 109](https://map.concept3d.com/?id=1005#!ct/18312,63891,65653?m/163044?s/CENTR_Main?sbc/)\n",
    "    - Section C: Wednesday 4-4:50PM in [Center 109](https://map.concept3d.com/?id=1005#!ct/18312,63891,65653?m/163044?s/CENTR_Main?sbc/)"
   ]
  },
  {
   "cell_type": "markdown",
   "metadata": {
    "slideshow": {
     "slide_type": "slide"
    }
   },
   "source": [
    "### Labs\n",
    "\n",
    "- Labs refer to **lab assignments**, which are a required part of the course and help you develop fluency in Python and working with data.\n",
    "- While working on labs, you'll be able to run **autograder tests** which tell you if your answers are correct.\n",
    "    - For labs, if you pass all autograder tests, you will get 100\\%!\n",
    "- You must submit labs individually, but you can discuss ideas with others (no sharing code).\n",
    "- All assignments, including labs will be due at **11:59PM** on the due date and submitted to Gradescope.\n",
    "- The first lab will have submission instructions."
   ]
  },
  {
   "cell_type": "markdown",
   "metadata": {
    "slideshow": {
     "slide_type": "slide"
    }
   },
   "source": [
    "### Homeworks and projects\n",
    "\n",
    "- Weekly homework assignments build off of skills you develop in labs.\n",
    "- A key difference between homeworks and labs is that **passing autograder tests does not guarantee a perfect score!**\n",
    "    - In homeworks, we have \"hidden tests\" that are only run after you submit the assignment.\n",
    "    - The tests that are available to you within the assignment itself only verify that your answer is reasonable/on the right track.\n",
    "- Again, you must work on homeworks yourself, but you can discuss ideas with other students (no sharing code).\n",
    "- In the **Midterm Project** and **Final Project**, you will do a deep dive into a dataset! Projects are longer than homeworks, so we give you more time to work on them. They're also very rewarding!\n",
    "    - You can work on projects with partners, following these [project partner guidelines](https://dsc10.com/project-partners). Both of you should actively contribute to **all parts** of the project."
   ]
  },
  {
   "cell_type": "markdown",
   "metadata": {
    "slideshow": {
     "slide_type": "slide"
    }
   },
   "source": [
    "### Quizzes\n",
    "\n",
    "- There will be five quizzes throughout the quarter, meant to help prepare you for exams and encourage you to review material regularly.\n",
    "- Only your three best quiz scores will count. This is intended to give you room to fail and **learn from your mistakes**. \n",
    "- It also helps if you need to miss a quiz. There are no makeup quizzes.\n",
    "- We will offer five sessions for quizzes. Let us know your preferences on the [Welcome Survey](https://forms.gle/Vg48rR7QVy4nZsNw9). We will confirm your assigned quiz time by email before Monday of Week 2.\n",
    "    - Quiz Session 1: Friday 2-2:20PM in [Center 109](https://map.concept3d.com/?id=1005#!ct/18312,63891,65653?m/163044?s/CENTR_Main?sbc/)\n",
    "    - Quiz Session 2: Friday 2:30-2:50PM in [Center 109](https://map.concept3d.com/?id=1005#!ct/18312,63891,65653?m/163044?s/CENTR_Main?sbc/)\n",
    "    - Quiz Session 3: Friday 3-3:20PM in [Center 109](https://map.concept3d.com/?id=1005#!ct/18312,63891,65653?m/163044?s/CENTR_Main?sbc/)\n",
    "    - Quiz Session 4: Friday 3:30-3:50PM in [Center 109](https://map.concept3d.com/?id=1005#!ct/18312,63891,65653?m/163044?s/CENTR_Main?sbc/)\n",
    "    - Quiz Session 5: Friday 4-4:20PM in [Center 109](https://map.concept3d.com/?id=1005#!ct/18312,63891,65653?m/163044?s/CENTR_Main?sbc/)"
   ]
  },
  {
   "cell_type": "markdown",
   "metadata": {
    "slideshow": {
     "slide_type": "slide"
    }
   },
   "source": [
    "### Exams\n",
    "\n",
    "We will have two exams this quarter.\n",
    "- Midterm Exam: Friday, May 3, during your enrolled lecture slot\n",
    "- Final Exam: Saturday, June 8, 7-10PM, location TBD\n",
    "\n",
    "Both exams will be conducted **in person and on paper**. Let us know of any conflicts on the [Welcome Survey]( https://forms.gle/Vg48rR7QVy4nZsNw9)."
   ]
  },
  {
   "cell_type": "markdown",
   "metadata": {
    "slideshow": {
     "slide_type": "slide"
    }
   },
   "source": [
    "### Readings and resources\n",
    "\n",
    "- We will draw readings from two sources. Readings for each lecture will be posted on the course homepage.\n",
    "    - [Computational and Inferential Thinking (CIT)](https://inferentialthinking.com), the textbook created for Berkeley's version of this course.\n",
    "    - [`babypandas` notes](https://notes.dsc10.com), written specifically for the first part of DSC 10.\n",
    "- The [Resources](https://dsc10.com/resources) tab of the course website contains links to helpful resources that you'll want to use throughout the course (e.g. DSC 10 Reference Sheet, programming tutorials, supplemental videos).\n",
    "- The [Debugging](https://dsc10.com/debugging) tab of the course website has answers to many common technical issues."
   ]
  },
  {
   "cell_type": "markdown",
   "metadata": {
    "slideshow": {
     "slide_type": "slide"
    }
   },
   "source": [
    "### Rough weekly schedule \n",
    "\n",
    "| Sunday | Monday | Tuesday | Wednesday | Thursday | Friday | Saturday |\n",
    "|: -- :|: -- :|: -- :|: -- :|: -- :|: -- :|: -- :|\n",
    "| | Lecture | | Lecture | | Lecture | |\n",
    "| | | | Discussion | | Quizzes | |\n",
    "| | | **HW due** | | **Lab due** | | |\n",
    "\n",
    "Always refer to the [course website](https://dsc10.com/) for the current schedule."
   ]
  },
  {
   "cell_type": "markdown",
   "metadata": {
    "slideshow": {
     "slide_type": "slide"
    }
   },
   "source": [
    "### First assignment\n",
    "- Lab 0 is due **Saturday, April 6 at 11:59PM**.\n",
    "    - To access it, click the link on the homepage of [dsc10.com](https://dsc10.com/) at the end of Week 1."
   ]
  },
  {
   "cell_type": "markdown",
   "metadata": {
    "slideshow": {
     "slide_type": "slide"
    }
   },
   "source": [
    "#### Getting help\n",
    "This is a tough, fast-paced course, but we're here to help you – here's how:\n",
    "\n",
    "- **Office Hours (OH)**.\n",
    "    - Not held in an office – rather, held in a large open study space (HDSI 155).\n",
    "    - Come with questions, or just to work!\n",
    "    - See the schedule and instructions on the [📆 Calendar](https://dsc10.com/calendar).\n",
    "- **Ed**.\n",
    "    - Post here with any logistical or conceptual questions; **please don't email**.\n",
    "    - No code or solutions in public posts. Such posts should be private to course staff.\n",
    "    - Otherwise, post publicly (anonymously, if you'd like).\n",
    "- <span style=\"color:red;\"><b>🚨 Important: Use these to your advantage!</b></span>"
   ]
  },
  {
   "cell_type": "markdown",
   "metadata": {
    "slideshow": {
     "slide_type": "slide"
    }
   },
   "source": [
    "### Advice from previous students\n",
    "\n",
    "At the end of each quarter, we ask DSC 10 students to give advice to future students in the course. Here are some responses from last quarter's students:\n",
    "\n",
    ">Start the assignments (especially the midterm/final projects) early! It became so manageable with more time to split up sections and think things through without a crazy overbearing time pressure.\n",
    "\n",
    ">Be prepared to spend a lot of time in this class, regardless of whether you have any prior knowledge in programming or statistics. Everything is doable, but you will need to put in a significant amount of effort to succeed and sometimes you'll have to think outside of the box to come up with solutions.\n",
    "\n",
    ">Go to office hours!! It is the best resource available. The tutors are more than willing to help you out. The tutors made my time at DSC 10 not only manageable but also enjoyable. Also, prepare for the quizzes at least one day in advance so that you can retain the material better.\n",
    "\n",
    ">Practice is the most important thing you can do to succeed in this course. Also, grab a friend - two (or more) heads are better than one! And don't be afraid to ask for help when needed."
   ]
  },
  {
   "cell_type": "markdown",
   "metadata": {
    "slideshow": {
     "slide_type": "slide"
    }
   },
   "source": [
    "### Academic Integrity policies\n",
    "\n",
    "#### Collaboration\n",
    "- Discuss all questions with each other (except, of course, on quizzes and exams).\n",
    "- Projects are submitted in pairs or individually. Both partners should contribute to all parts of the project, not split it up.\n",
    "- Labs and homeworks are submitted individually.\n",
    "- No other person should complete your work for you or write any of the code you submit in this course, with the exception of the work you do with a project partner.\n",
    "- Don't give someone else your code or look at someone else's code.\n",
    "\n"
   ]
  },
  {
   "cell_type": "markdown",
   "metadata": {
    "slideshow": {
     "slide_type": "fragment"
    }
   },
   "source": [
    "#### Generative Artificial Intelligence (GenAI)\n",
    "- The syllabus includes a [discussion of these tools](https://dsc10.com/syllabus/#use-of-generative-artificial-intelligence) and how you may use them in this class. Please read this carefully, ask questions about it, and proceed with care!"
   ]
  },
  {
   "cell_type": "markdown",
   "metadata": {
    "slideshow": {
     "slide_type": "slide"
    }
   },
   "source": [
    "### We're here for you!\n",
    "\n",
    "Regardless of your background, you can succeed in this course. **No prior programming or statistics experience will be assumed!**\n",
    "\n",
    "Watch on YouTube: [We’re All Data Scientists | Rebecca Nugent | TEDxCMU](https://www.youtube.com/watch?v=YMnqPTLoj7o)."
   ]
  },
  {
   "cell_type": "markdown",
   "metadata": {
    "slideshow": {
     "slide_type": "slide"
    }
   },
   "source": [
    "## Demo"
   ]
  },
  {
   "cell_type": "markdown",
   "metadata": {
    "slideshow": {
     "slide_type": "slide"
    }
   },
   "source": [
    "### _Little Women_ (1868)\n",
    "\n",
    "- _Little Women_, by Louisa May Alcott, is a novel that follows the life of four sisters – Meg, Jo, Beth, and Amy.\n",
    "    - A movie based on the novel was released in 2019, starring Emma Watson (Meg) and Timothée Chalamet (Laurie).\n",
    "- Using tools from this class, we'll learn (a bit) about the plot of the book, without reading it.\n",
    "- Do not worry about any of this code – we'll cover the necessary pieces in the weeks to come. Sit back and relax!"
   ]
  },
  {
   "cell_type": "code",
   "execution_count": null,
   "metadata": {
    "scrolled": true,
    "slideshow": {
     "slide_type": "slide"
    }
   },
   "outputs": [],
   "source": [
    "# Read in 'lw.txt' to a variable called little_women_text.\n",
    "little_women_text = open('data/lw.txt').read()"
   ]
  },
  {
   "cell_type": "code",
   "execution_count": null,
   "metadata": {
    "slideshow": {
     "slide_type": "slide"
    }
   },
   "outputs": [],
   "source": [
    "# See the first three thousand characters.\n",
    "little_women_text[:3000]"
   ]
  },
  {
   "cell_type": "code",
   "execution_count": null,
   "metadata": {
    "slideshow": {
     "slide_type": "slide"
    }
   },
   "outputs": [],
   "source": [
    "# Print the first three thousand characters.\n",
    "print(little_women_text[:3000])"
   ]
  },
  {
   "cell_type": "code",
   "execution_count": null,
   "metadata": {
    "slideshow": {
     "slide_type": "slide"
    }
   },
   "outputs": [],
   "source": [
    "# Create a variable \"chapters\" by splitting the text on 'CHAPTER '.\n",
    "chapters = little_women_text.split('CHAPTER ') \n",
    "\n",
    "# Create a DataFrame with one column - the text of each chapters.\n",
    "bpd.DataFrame().assign(chapters=chapters)"
   ]
  },
  {
   "cell_type": "code",
   "execution_count": null,
   "metadata": {
    "slideshow": {
     "slide_type": "slide"
    }
   },
   "outputs": [],
   "source": [
    "# Number of occurrences of each name in each chapter.\n",
    "\n",
    "counts = bpd.DataFrame().assign(\n",
    "    Amy=np.char.count(chapters, 'Amy'),\n",
    "    Beth=np.char.count(chapters, 'Beth'),\n",
    "    Jo=np.char.count(chapters, 'Jo'),\n",
    "    Meg=np.char.count(chapters, 'Meg'),\n",
    "    Laurie=np.char.count(chapters, 'Laurie'),\n",
    ")\n",
    "counts"
   ]
  },
  {
   "cell_type": "code",
   "execution_count": null,
   "metadata": {
    "slideshow": {
     "slide_type": "slide"
    }
   },
   "outputs": [],
   "source": [
    "# Cumulative number of times each name appears.\n",
    "\n",
    "cumulative_counts = bpd.DataFrame().assign(\n",
    "    Amy=np.cumsum(counts.get('Amy')),\n",
    "    Beth=np.cumsum(counts.get('Beth')),\n",
    "    Jo=np.cumsum(counts.get('Jo')),\n",
    "    Meg=np.cumsum(counts.get('Meg')),\n",
    "    Laurie=np.cumsum(counts.get('Laurie')),\n",
    "    Chapter=np.arange(1, 49, 1)\n",
    ")\n",
    "\n",
    "cumulative_counts"
   ]
  },
  {
   "cell_type": "code",
   "execution_count": null,
   "metadata": {
    "slideshow": {
     "slide_type": "slide"
    }
   },
   "outputs": [],
   "source": [
    "# Putting it all together, we get a helpful visualization.\n",
    "cumulative_counts_df = cumulative_counts.drop(columns=['Chapter']).to_df().melt().rename(columns={'variable': 'name', 'value': 'Count'})\n",
    "cumulative_counts_df = cumulative_counts_df.assign(Chapter=list(range(1, 49)) * 5)\n",
    "px.line(cumulative_counts_df, x='Chapter', y='Count', color='name', width=900, height=600, title='Cumulative Number of Times Each Name Appears', template='ggplot2')"
   ]
  },
  {
   "cell_type": "markdown",
   "metadata": {
    "slideshow": {
     "slide_type": "fragment"
    }
   },
   "source": [
    "- In Chapter 32, Jo moves to New York alone. Her relationship with which sister suffers the most from this faraway move?"
   ]
  },
  {
   "cell_type": "markdown",
   "metadata": {
    "slideshow": {
     "slide_type": "fragment"
    }
   },
   "source": [
    "- Laurie is a man who marries one of the sisters at the end. Which one?\n"
   ]
  },
  {
   "cell_type": "markdown",
   "metadata": {
    "slideshow": {
     "slide_type": "slide"
    }
   },
   "source": [
    "### Next time\n",
    "\n",
    "We'll start programming in Python 🐍. Remember to bring a laptop or tablet if you have one."
   ]
  },
  {
   "cell_type": "markdown",
   "metadata": {
    "slideshow": {
     "slide_type": "slide"
    }
   },
   "source": [
    "### Reminders\n",
    "1. Fill out the required [Welcome Survey](https://forms.gle/Vg48rR7QVy4nZsNw9) as soon as possible. \n",
    "2. Take the [pretest](https://practice.dsc10.com/pretest/) to brush up on background knowledge and test-taking skills.\n",
    "3. Attend discussion section on Wednesday.\n",
    "4. Start working on Lab 0, due Saturday.\n"
   ]
  }
 ],
 "metadata": {
  "kernelspec": {
   "display_name": "Python 3 (ipykernel)",
   "language": "python",
   "name": "python3"
  },
  "language_info": {
   "codemirror_mode": {
    "name": "ipython",
    "version": 3
   },
   "file_extension": ".py",
   "mimetype": "text/x-python",
   "name": "python",
   "nbconvert_exporter": "python",
   "pygments_lexer": "ipython3",
   "version": "3.9.13"
  },
  "livereveal": {
   "scroll": true,
   "transition": "none"
  },
  "rise": {
   "enable_chalkboard": true
  }
 },
 "nbformat": 4,
 "nbformat_minor": 4
}
