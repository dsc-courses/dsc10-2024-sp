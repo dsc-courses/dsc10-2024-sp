{
 "cells": [
  {
   "cell_type": "code",
   "execution_count": null,
   "id": "a54c8b21",
   "metadata": {},
   "outputs": [],
   "source": [
    "import pandas as pd\n",
    "import numpy as np"
   ]
  },
  {
   "cell_type": "markdown",
   "id": "908406d0",
   "metadata": {},
   "source": [
    "Download the roster in \"standard format\", remove the first few rows in Google sheets, and save as a CSV). **Don't** commit the roster to GitHub – let's avoid the possibility of accidentally releasing it to students."
   ]
  },
  {
   "cell_type": "code",
   "execution_count": null,
   "id": "94a1f986",
   "metadata": {},
   "outputs": [],
   "source": [
    "roster = pd.read_csv('sp_24.csv')"
   ]
  },
  {
   "cell_type": "code",
   "execution_count": null,
   "id": "e7e6c0a3",
   "metadata": {
    "scrolled": true
   },
   "outputs": [],
   "source": [
    "roster['Sec ID'].value_counts()"
   ]
  },
  {
   "cell_type": "code",
   "execution_count": null,
   "id": "1334acf3",
   "metadata": {},
   "outputs": [],
   "source": [
    "roster['Lecture'] = roster['Sec ID'].replace({\n",
    "    398041: '9AM',\n",
    "    398180: '10AM',\n",
    "    398400: '11AM'\n",
    "})"
   ]
  },
  {
   "cell_type": "code",
   "execution_count": null,
   "id": "1a828265",
   "metadata": {},
   "outputs": [],
   "source": [
    "roster"
   ]
  },
  {
   "cell_type": "code",
   "execution_count": null,
   "id": "e27d66df",
   "metadata": {},
   "outputs": [],
   "source": [
    "roster['Student'] = roster['Student'].str.split().str[-1] + ' ' + list(map(lambda x: ''.join(x), np.random.choice(list('abcdefghijklmnopqrstuvwxyz'), size=(roster.shape[0], 6))))\n",
    "roster['Student'] = roster['Student'].str.title()\n",
    "roster"
   ]
  },
  {
   "cell_type": "code",
   "execution_count": null,
   "id": "948f36bd",
   "metadata": {},
   "outputs": [],
   "source": [
    "roster = roster.get(['Student', 'Lecture'])\n",
    "roster.columns=['name', 'section']\n",
    "roster"
   ]
  },
  {
   "cell_type": "code",
   "execution_count": null,
   "id": "b18ef14b",
   "metadata": {},
   "outputs": [],
   "source": [
    "roster = roster.sample(frac=1).reset_index(drop=True) # So it's not alphabetically sorted\n",
    "roster"
   ]
  },
  {
   "cell_type": "code",
   "execution_count": null,
   "id": "6fa683b5",
   "metadata": {},
   "outputs": [],
   "source": [
    "roster.to_csv('../data/roster-anon.csv', index=False)"
   ]
  },
  {
   "cell_type": "code",
   "execution_count": null,
   "id": "9fe75742",
   "metadata": {},
   "outputs": [],
   "source": [
    "def first_name(full_name):\n",
    "    return full_name.split(' ')[0]"
   ]
  },
  {
   "cell_type": "code",
   "execution_count": null,
   "id": "bc8fb327",
   "metadata": {},
   "outputs": [],
   "source": [
    "with_first = roster.assign(first=roster['name'].apply(first_name))"
   ]
  },
  {
   "cell_type": "code",
   "execution_count": null,
   "id": "45e168bf",
   "metadata": {},
   "outputs": [],
   "source": [
    "first_counts = with_first.groupby('first').count().sort_values('name', ascending=False)"
   ]
  },
  {
   "cell_type": "code",
   "execution_count": null,
   "id": "2b4d8d73",
   "metadata": {},
   "outputs": [],
   "source": [
    "def how_many_others_in_section(name):\n",
    "    row = with_first[roster['name'] == name]\n",
    "    first = row.get('first').iloc[0]\n",
    "    section = row.get('section').iloc[0]\n",
    "    return with_first[(with_first.get('section') == section) & (with_first.get('first') == first)].shape[0]"
   ]
  },
  {
   "cell_type": "code",
   "execution_count": null,
   "id": "f36a997b",
   "metadata": {},
   "outputs": [],
   "source": [
    "with_others = with_first.assign(others=with_first.get('name').apply(how_many_others_in_section))\n",
    "with_others"
   ]
  },
  {
   "cell_type": "code",
   "execution_count": null,
   "id": "a17313f0",
   "metadata": {},
   "outputs": [],
   "source": [
    "with_first.groupby(['first', 'section']).count().sort_values('name', ascending=False).reset_index()\n"
   ]
  },
  {
   "cell_type": "code",
   "execution_count": null,
   "id": "913170fa",
   "metadata": {},
   "outputs": [],
   "source": [
    "with_others[with_others.get('others') > 1].sort_values('others', ascending=False)"
   ]
  },
  {
   "cell_type": "code",
   "execution_count": null,
   "id": "81dfeb50",
   "metadata": {},
   "outputs": [],
   "source": []
  }
 ],
 "metadata": {
  "kernelspec": {
   "display_name": "Python 3 (ipykernel)",
   "language": "python",
   "name": "python3"
  },
  "language_info": {
   "codemirror_mode": {
    "name": "ipython",
    "version": 3
   },
   "file_extension": ".py",
   "mimetype": "text/x-python",
   "name": "python",
   "nbconvert_exporter": "python",
   "pygments_lexer": "ipython3",
   "version": "3.9.5"
  }
 },
 "nbformat": 4,
 "nbformat_minor": 5
}
