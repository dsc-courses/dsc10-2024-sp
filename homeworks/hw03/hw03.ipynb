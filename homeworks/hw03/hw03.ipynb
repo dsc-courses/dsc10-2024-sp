{
 "cells": [
  {
   "cell_type": "markdown",
   "metadata": {},
   "source": [
    "# Homework 3: DataFrames, Control Flow, and Probability\n",
    "\n",
    "## Due Tuesday, April 30th at 11:59PM\n",
    "\n",
    "Welcome to Homework 3! This homework will cover lots of different topics:\n",
    "- Grouping with subgroups (see [BPD 11](https://notes.dsc10.com/02-data_sets/groupby.html#subgroups))\n",
    "- Merging DataFrames (see [BPD 13](https://notes.dsc10.com/02-data_sets/merging.html))\n",
    "- Conditional statements (see [CIT 9.1](https://inferentialthinking.com/chapters/09/1/Conditional_Statements.html))\n",
    "- Iteration (see [CIT 9.2](https://inferentialthinking.com/chapters/09/2/Iteration.html))\n",
    "- Probability (see [CIT 9.5](https://inferentialthinking.com/chapters/09/5/Finding_Probabilities.html))"
   ]
  },
  {
   "cell_type": "markdown",
   "metadata": {},
   "source": [
    "### Instructions\n",
    "\n",
    "Remember to start early and submit often. You are given six slip days throughout the quarter to extend deadlines. See the syllabus for more details. With the exception of using slip days, late work will not be accepted unless you have made special arrangements with your instructor.\n",
    "\n",
    "**Important**: For homeworks, the `otter` tests don't usually tell you that your answer is correct. More often, they help catch careless mistakes. It's up to you to ensure that your answer is correct. If you're not sure, ask someone (not for the answer, but for some guidance about your approach). These are great questions for office hours (the schedule can be found [here](https://dsc10.com/calendar)) or Ed. Directly sharing answers is not okay, but discussing problems with the course staff or with other students is encouraged. "
   ]
  },
  {
   "cell_type": "code",
   "execution_count": 1,
   "metadata": {
    "tags": []
   },
   "outputs": [],
   "source": [
    "# Please don't change this cell, but do make sure to run it.\n",
    "import babypandas as bpd\n",
    "import matplotlib.pyplot as plt\n",
    "plt.style.use('ggplot')\n",
    "plt.rcParams['figure.figsize'] = (10, 5)\n",
    "\n",
    "import numpy as np\n",
    "import otter\n",
    "grader = otter.Notebook()\n",
    "answer_words = bpd.read_csv('data/wordle.csv').get('word').values\n",
    "\n",
    "# We need to import some extra packages for some fun demonstrations.\n",
    "import json\n",
    "from ipywidgets import interact, widgets\n",
    "from IPython.display import YouTubeVideo, HTML, display, clear_output, Image, IFrame\n",
    "\n",
    "# Don't worry about this.\n",
    "def read_json(path):\n",
    "    f = open(path, 'r')\n",
    "    return json.load(f)"
   ]
  },
  {
   "cell_type": "markdown",
   "metadata": {},
   "source": [
    "### Supplemental Video on DataHub and Jupyter Notebooks\n",
    "\n",
    "In Lab 0, we linked you to a video that walks you through key ideas you should be aware of when working on DataHub and in Jupyter Notebooks, including\n",
    "- how files are organized on DataHub\n",
    "- what it means to \"restart the kernel\"\n",
    "- how to use keyboard shortcuts (most important: use `SHIFT + ENTER` to run a cell!)\n",
    "\n",
    "We're linking it here again for your convenience. If you feel a little shaky on how to work your way around a notebook or troubleshoot issues, we recommend you give it another watch. (When troubleshooting, make sure to always check the [Debugging](https://dsc10.com/debugging/) tab on the course website as well.)\n",
    "\n",
    "The video is quite long, but if you open the video directly on YouTube (which you can do by clicking the video's title after it loads in the next cell) you'll see timestamps in the description which you can use to jump to different parts of the video depending on what you'd like to learn more about."
   ]
  },
  {
   "cell_type": "code",
   "execution_count": 2,
   "metadata": {
    "scrolled": true,
    "tags": []
   },
   "outputs": [],
   "source": [
    "# Run this cell.\n",
    "YouTubeVideo('Hq8VaNirDRQ')"
   ]
  },
  {
   "cell_type": "markdown",
   "metadata": {},
   "source": [
    "## 0. Mid-Quarter Survey\n",
    "\n",
    "We'd like to hear from you on how DSC 10 has been going so far this quarter. To do so, we've put together a survey that asks you to provide feedback on all aspects of the course. You can provide as much or as little detail as you'd like. We value your input and will use the results of the survey to improve the course!\n",
    "\n",
    "This survey is entirely anonymous, though you are free to leave your name and email if you want. The responses to the survey will be visible to both course staff and the Data Science Student Representatives. There will also be a question at the end of the survey that will allow you to provide feedback on the DSC program as a whole.\n",
    "\n",
    "<center><h3>Click <a href=\"https://forms.gle/JD1azLrAffvyhW7r9\">here</a> to access the survey.</h3></center>\n",
    "\n",
    "After completing the survey, enter the keyword provided at the end of the survey to get credit towards this homework assignment."
   ]
  },
  {
   "cell_type": "code",
   "execution_count": 3,
   "metadata": {},
   "outputs": [],
   "source": [
    "survey_keyword = ..."
   ]
  },
  {
   "cell_type": "code",
   "execution_count": null,
   "metadata": {
    "deletable": false,
    "editable": false
   },
   "outputs": [],
   "source": [
    "grader.check(\"q0\")"
   ]
  },
  {
   "cell_type": "markdown",
   "metadata": {},
   "source": [
    "## 1. 100 Years of \"C\" Baby Names 👶🏻"
   ]
  },
  {
   "cell_type": "markdown",
   "metadata": {},
   "source": [
    "What letter does your first name start with? In this problem, we'll look at baby names starting with the letter \"C\". The file `data/baby_names.csv` contains information from the [Social Security Administration](https://www.ssa.gov/oact/babynames/limits.html) about \"C\" baby names in the US from 1923 to 2022 — that's nearly a century! Run the cell below to read in the data."
   ]
  },
  {
   "cell_type": "code",
   "execution_count": 6,
   "metadata": {
    "tags": []
   },
   "outputs": [],
   "source": [
    "baby = bpd.read_csv('data/baby_names.csv')\n",
    "baby"
   ]
  },
  {
   "cell_type": "markdown",
   "metadata": {},
   "source": [
    "The DataFrame `baby` has a row for each `'State'` (50 US states plus Washington DC), `'Gender'` (`'M'` or `'F'`, as assigned at birth), `'Year'` (between 1923 and 2022), and `'Name'`. The `'Count'` column records the number of babies of that gender who were given that name in one state in one year.\n",
    "\n",
    "The first row in `baby` contains the name `'Charles'`. Below, we look at only the rows corresponding to the name `'Charles'`."
   ]
  },
  {
   "cell_type": "code",
   "execution_count": 7,
   "metadata": {},
   "outputs": [],
   "source": [
    "baby[baby.get('Name') == 'Charles']"
   ]
  },
  {
   "cell_type": "markdown",
   "metadata": {},
   "source": [
    "The first row of the DataFrame shows that there were 7 male babies named Charles born in Alaska in 1923. There are many other rows corresponding to a `'Name'` Charles, which come from other years, other states, and also female babies named Charles, of which there are some!\n",
    "\n",
    "\n",
    "Run the cell below to find out when and where many female Charles were born."
   ]
  },
  {
   "cell_type": "code",
   "execution_count": 8,
   "metadata": {
    "tags": []
   },
   "outputs": [],
   "source": [
    "female_charles = baby[(baby.get('Name') == 'Charles') & (baby.get('Gender') == 'F')]\n",
    "female_charles.sort_values(by='Count', ascending=False)"
   ]
  },
  {
   "cell_type": "markdown",
   "metadata": {},
   "source": [
    "**Question 1.1.** There are many more male Charles than female Charles, so let's look at the popularity of the name Charles in male babies over time. Create a line plot that shows how the number of male babies named Charles has changed over time in the US. Then use your plot to answer the question that follows."
   ]
  },
  {
   "cell_type": "code",
   "execution_count": 9,
   "metadata": {
    "tags": []
   },
   "outputs": [],
   "source": [
    "# Create your line plot here."
   ]
  },
  {
   "cell_type": "markdown",
   "metadata": {},
   "source": [
    "Around what year was the peak in popularity for the name 'Charles' in male babies? Choose the closest answer from the options below and set `male_charles_peak` to 1, 2, 3, or 4 corresponding to your answer choice.\n",
    "1. 1930\n",
    "2. 1950\n",
    "3. 1960\n",
    "4. 2000"
   ]
  },
  {
   "cell_type": "code",
   "execution_count": 10,
   "metadata": {
    "tags": []
   },
   "outputs": [],
   "source": [
    "male_charles_peak = ..."
   ]
  },
  {
   "cell_type": "code",
   "execution_count": null,
   "metadata": {
    "deletable": false,
    "editable": false
   },
   "outputs": [],
   "source": [
    "grader.check(\"q1_1\")"
   ]
  },
  {
   "cell_type": "markdown",
   "metadata": {},
   "source": [
    "**Question 1.2.** In the `baby` DataFrame, how many babies of each gender were born in each state? Create a DataFrame named `num_babies` with one row for each gender in each state and columns `'State'`, `'Gender'`, and `'Count'`, which contains the total number of babies of each gender in each state with a \"C\" name. The first few rows of `num_babies` are shown below.\n",
    "\n",
    "<table border=\"1\" class=\"dataframe\">\n",
    "  <thead>\n",
    "    <tr style=\"text-align: right;\">\n",
    "      <th></th>\n",
    "      <th>State</th>\n",
    "      <th>Gender</th>\n",
    "      <th>Count</th>\n",
    "    </tr>\n",
    "  </thead>\n",
    "  <tbody>\n",
    "    <tr>\n",
    "      <th>0</th>\n",
    "      <td>AK</td>\n",
    "      <td>F</td>\n",
    "      <td>13605</td>\n",
    "    </tr>\n",
    "    <tr>\n",
    "      <th>1</th>\n",
    "      <td>AK</td>\n",
    "      <td>M</td>\n",
    "      <td>20039</td>\n",
    "    </tr>\n",
    "    <tr>\n",
    "      <th>2</th>\n",
    "      <td>AL</td>\n",
    "      <td>F</td>\n",
    "      <td>154079</td>\n",
    "    </tr>\n",
    "    <tr>\n",
    "      <th>3</th>\n",
    "      <td>AL</td>\n",
    "      <td>M</td>\n",
    "      <td>234513</td>\n",
    "    </tr>\n",
    "  </tbody>\n",
    "</table>\n",
    "\n",
    "***Hints:***\n",
    "- You can do this in one line of code.\n",
    "- Don't forget to use `.reset_index()`.\n"
   ]
  },
  {
   "cell_type": "code",
   "execution_count": 13,
   "metadata": {
    "tags": []
   },
   "outputs": [],
   "source": [
    "num_babies = ...\n",
    "num_babies"
   ]
  },
  {
   "cell_type": "code",
   "execution_count": null,
   "metadata": {
    "deletable": false,
    "editable": false
   },
   "outputs": [],
   "source": [
    "grader.check(\"q1_2\")"
   ]
  },
  {
   "cell_type": "markdown",
   "metadata": {},
   "source": [
    "A gendered name is a combination of a name and a gender, such as female Charles. Let's explore the average age of people with each gendered name. For example, let's calculate the average age of all female Charles."
   ]
  },
  {
   "cell_type": "code",
   "execution_count": 19,
   "metadata": {
    "tags": []
   },
   "outputs": [],
   "source": [
    "female_charles"
   ]
  },
  {
   "cell_type": "markdown",
   "metadata": {},
   "source": [
    "We'll define the age of a person as 2024 (the current year) minus the year in which the person was born. This doesn't take into account people's birthdays, because we don't have that information. For example, if a female Charles was born in 1984, they will be counted as 2024 - 1984 = 40 years old. Therefore the **total age** of all the female Charles is given below."
   ]
  },
  {
   "cell_type": "code",
   "execution_count": 20,
   "metadata": {
    "tags": []
   },
   "outputs": [],
   "source": [
    "total_age = ((2024 - female_charles.get('Year')) * female_charles.get('Count')).sum()\n",
    "total_age"
   ]
  },
  {
   "cell_type": "markdown",
   "metadata": {},
   "source": [
    "To find the average age, we need to know how many female Charles there are. The **total count** of female Charles is given below."
   ]
  },
  {
   "cell_type": "code",
   "execution_count": 21,
   "metadata": {
    "tags": []
   },
   "outputs": [],
   "source": [
    "total_count = female_charles.get('Count').sum()\n",
    "total_count"
   ]
  },
  {
   "cell_type": "markdown",
   "metadata": {},
   "source": [
    "Therefore the **average age** of female Charles is given below."
   ]
  },
  {
   "cell_type": "code",
   "execution_count": 22,
   "metadata": {
    "tags": []
   },
   "outputs": [],
   "source": [
    "average_age = total_age / total_count\n",
    "average_age"
   ]
  },
  {
   "cell_type": "markdown",
   "metadata": {},
   "source": [
    "Notice that we _cannot_ calculate the average age of female Charles as follows."
   ]
  },
  {
   "cell_type": "code",
   "execution_count": 23,
   "metadata": {
    "tags": []
   },
   "outputs": [],
   "source": [
    "age = 2024 - female_charles.get('Year')\n",
    "age.mean()"
   ]
  },
  {
   "cell_type": "markdown",
   "metadata": {},
   "source": [
    "This is incorrect because it does not take into account the fact that there were more female Charles born some years than others. "
   ]
  },
  {
   "cell_type": "markdown",
   "metadata": {},
   "source": [
    "**Question 1.3.** Create a DataFrame named `avg_age` that has one row for each gendered name and columns `'Gender'`, `'Name'`, and `'Average_Age'`, which contains the average age of all people with each gendered name. The first few rows of `avg_age` are shown below.\n",
    "\n",
    "<table border=\"1\" class=\"dataframe\">\n",
    "  <thead>\n",
    "    <tr style=\"text-align: right;\">\n",
    "      <th></th>\n",
    "      <th>Gender</th>\n",
    "      <th>Name</th>\n",
    "      <th>Average_Age</th>\n",
    "    </tr>\n",
    "  </thead>\n",
    "  <tbody>\n",
    "    <tr>\n",
    "      <th>0</th>\n",
    "      <td>F</td>\n",
    "      <td>Cache</td>\n",
    "      <td>26.813333</td>\n",
    "    </tr>\n",
    "    <tr>\n",
    "      <th>1</th>\n",
    "      <td>M</td>\n",
    "      <td>Cache</td>\n",
    "      <td>13.398496</td>\n",
    "    </tr>\n",
    "    <tr>\n",
    "      <th>2</th>\n",
    "      <td>F</td>\n",
    "      <td>Cade</td>\n",
    "      <td>20.000000</td>\n",
    "    </tr>\n",
    "    <tr>\n",
    "      <th>3</th>\n",
    "      <td>M</td>\n",
    "      <td>Cade</td>\n",
    "      <td>16.929738</td>\n",
    "    </tr>\n",
    "  </tbody>\n",
    "</table>\n",
    "\n",
    "***Hints:***\n",
    "- Before attempting this question, make sure you understand the strategy shown above for finding the average age of female Charles. You will need to generalize this approach.\n",
    "- This is a multi-step problem. Add cells and display your intermediate results so you can see your progress as you go.\n",
    "- You should check that the average age for female Charles in your DataFrame `avg_age` is the same as we found above.\n"
   ]
  },
  {
   "cell_type": "code",
   "execution_count": 24,
   "metadata": {
    "tags": []
   },
   "outputs": [],
   "source": [
    "avg_age = ...\n",
    "avg_age"
   ]
  },
  {
   "cell_type": "code",
   "execution_count": null,
   "metadata": {
    "deletable": false,
    "editable": false
   },
   "outputs": [],
   "source": [
    "grader.check(\"q1_3\")"
   ]
  },
  {
   "cell_type": "markdown",
   "metadata": {},
   "source": [
    "## 2. Cerealsly?!🥣\n",
    "\n",
    "In this question, we'll be exploring some data on the most popular cereal in each state, from [this article](https://www.zippia.com/advice/each-states-favorite-cereal/)."
   ]
  },
  {
   "cell_type": "code",
   "execution_count": 30,
   "metadata": {
    "tags": []
   },
   "outputs": [],
   "source": [
    "states = bpd.read_csv('data/states.csv')\n",
    "states"
   ]
  },
  {
   "cell_type": "markdown",
   "metadata": {},
   "source": [
    "In the `states` DataFrame above, each state's `'Favorite Cereal'` is defined as the cereal, among the top 20 varieties, that has been Google searched a disproportionately high amount in that state. \n",
    "\n",
    "The `states` DataFrame does not contain any information about the cereals themselves. We'll also use a [dataset from Kaggle](https://www.kaggle.com/datasets/crawford/80-cereals?resource=download) with nutritional information on many varieties of cereal. Run the cell below to load in this data and store it in a DataFrame called `varieties`."
   ]
  },
  {
   "cell_type": "code",
   "execution_count": 31,
   "metadata": {},
   "outputs": [],
   "source": [
    "varieties = bpd.read_csv('data/cereal.csv')\n",
    "varieties"
   ]
  },
  {
   "cell_type": "markdown",
   "metadata": {},
   "source": [
    "**Question 2.1.** Using the `merge` method, combine the `states` and `varieties` DataFrames, and assign the resulting DataFrame to the variable `states_and_varieties`. \n",
    "- `states_and_varieties` should contain all of the columns in both `states` and `varieties`, minus the `'name'` column from `varieties`, which is redundant with the `'Favorite Cereal'` column from `states`.\n",
    "- Sort `states_and_varieties` by `'State'` in ascending order.\n",
    "- Reset the index of `states_and_varieties` so that it is `0`, `1`, `2`, and so on. Make sure the old index isn't also included as a column."
   ]
  },
  {
   "cell_type": "code",
   "execution_count": 32,
   "metadata": {
    "tags": []
   },
   "outputs": [],
   "source": [
    "states_and_varieties = ...\n",
    "states_and_varieties"
   ]
  },
  {
   "cell_type": "code",
   "execution_count": null,
   "metadata": {
    "deletable": false,
    "editable": false
   },
   "outputs": [],
   "source": [
    "grader.check(\"q2_1\")"
   ]
  },
  {
   "cell_type": "markdown",
   "metadata": {
    "deletable": false,
    "editable": false
   },
   "source": [
    "**Question 2.2.** If you completed Question 2.1 correctly, you'll notice that `states_and_varieties` has fewer rows than both `states` and `varieties`. This is because there are some cereals that are in `states` and not in `varieties`, and other cereals that are in `varieties` and not in `states`. \n",
    "\n",
    "Below, assign `states_not_varieties` to the number of different cereals that are in `states` and not in `varieties`. Similarly, assign `varieties_not_states` to the number of different cereals that are in `varieties` and not in `states`.\n",
    "\n",
    "***Hint:*** There are two ways to find the number of unique values in a column.\n",
    "\n",
    "1. Group by that column. On the resulting DataFrame, use `.shape[0]`.\n",
    "\n",
    "2. Use the `.unique()` method on the Series corresponding to that column. Use `len` on the resulting array.\n",
    "\n",
    "You'll need to do this three times – once each for the columns that contain cereal names in `states`, `varieties`, and `states_and_varieties`.\n",
    "\n",
    "<!--\n",
    "BEGIN QUESTION\n",
    "name: q2_2\n",
    "-->"
   ]
  },
  {
   "cell_type": "code",
   "execution_count": 38,
   "metadata": {
    "scrolled": true,
    "tags": []
   },
   "outputs": [],
   "source": [
    "states_not_varieties = ...\n",
    "varieties_not_states = ...\n",
    "\n",
    "print('There are', states_not_varieties, 'cereals in `states` that are not in `varieties`.')\n",
    "print('There are', varieties_not_states, 'cereals in `varieties` that are not in `states`.')"
   ]
  },
  {
   "cell_type": "code",
   "execution_count": null,
   "metadata": {
    "deletable": false,
    "editable": false
   },
   "outputs": [],
   "source": [
    "grader.check(\"q2_2\")"
   ]
  },
  {
   "cell_type": "markdown",
   "metadata": {},
   "source": [
    "Now that we better understand how `states_and_varieties` came to be, let's use it to learn more about states' cereal preferences."
   ]
  },
  {
   "cell_type": "code",
   "execution_count": 45,
   "metadata": {},
   "outputs": [],
   "source": [
    "states_and_varieties"
   ]
  },
  {
   "cell_type": "markdown",
   "metadata": {},
   "source": [
    "**Question 2.3.** Since there can be many ways to define a state's favorite cereal, there are other datasets about each state's favorite cereal with different data. One such [article from AOL](https://www.aol.com/most-popular-cereal-every-state-181423663.html) bases its data on Google searches among all cereal brands. Run the next cell to load in the data from that article."
   ]
  },
  {
   "cell_type": "code",
   "execution_count": 46,
   "metadata": {},
   "outputs": [],
   "source": [
    "states_alt = bpd.read_csv('data/states2.csv')\n",
    "states_alt"
   ]
  },
  {
   "cell_type": "markdown",
   "metadata": {},
   "source": [
    "Now that we have two DataFrames of favorite cereals per state, `states` and `states_alt`, we can figure out the number of states in which both DataFrames agree on the favorite cereal. Save this number of states in the variable `same_cereal`."
   ]
  },
  {
   "cell_type": "code",
   "execution_count": 47,
   "metadata": {},
   "outputs": [],
   "source": [
    "same_cereal = ...\n",
    "same_cereal"
   ]
  },
  {
   "cell_type": "code",
   "execution_count": null,
   "metadata": {
    "deletable": false,
    "editable": false
   },
   "outputs": [],
   "source": [
    "grader.check(\"q2_3\")"
   ]
  },
  {
   "cell_type": "markdown",
   "metadata": {},
   "source": [
    "As you can see, a state's \"favorite cereal\" is definitely open to interpretation!"
   ]
  },
  {
   "cell_type": "markdown",
   "metadata": {},
   "source": [
    "## 3. Tritonmobile 🚗 🚙\n",
    "\n",
    "UCSD is launching its own car dealership called Tritonmobile! Every UCSD student that buys a Tritonmobile will have 5 years to pay off a car loan, plus they'll get a special Triton discount. You and Charlie have been hired as data scientists for the project. Your job is to make a monthly car-payment calculator for the Tritonmobile website. \n",
    "\n",
    "Car payments depend on a few factors, including the price of the car, the amount paid up-front (called the down payment), the interest rate, and the length of the loan (in this case, 5 years). \n",
    "\n",
    "Tritonmobile will use a student's credit score to determine their interest rate. Interest is essentially the cost of borrowing money - it is money paid on top of borrowed money. Interest rates are mainly decided based on a person's credit score, which is a way of measuring financial trustworthiness. To learn more about this, check out [this article](https://www.equifax.com/personal/education/personal-finance/articles/-/learn/what-do-interest-rates-mean/) about what interest rates mean and [this article](https://www.experian.com/blogs/ask-experian/why-do-people-with-higher-credit-scores-get-lower-interest-rates/#:~:text=People%20with%20higher%20credit%20scores,always%20looking%20to%20minimize%20risk.) about why credit scores affect interest rates.\n",
    "\n",
    "Let's walk through how Tritonmobile will calculate the loan payment on a \\\\$20,000 car with a $5,000 down payment, when the vehicle is sold to a student with a credit score of 750. The steps are as follows.\n",
    "\n",
    "1. **Calculate the interest rate of the loan based on the credit score**.  Tritonmobile determines the interest rate according to the table below.\n",
    "\n",
    "| Credit Rating |  Credit Score |Interest Rate |\n",
    "| --- | --- | --- |\n",
    "| super prime | 781 and above | 5.6% |\n",
    "| prime | 661 to 780 | 6.9% |\n",
    "| near prime | 601 to 660 |  9.3% |\n",
    "| subprime | 501 to 600 |  11.9% |\n",
    "| deep subprime | up to 500 | 14.2% |\n",
    "\n",
    "For our example, if the car buyer has a 750 credit score, their interest rate is 6.9\\%. \n",
    "\n",
    "2. **Calculate the principal amount on the loan using the down payment**. The principal amount is how much money you have to pay off (through monthly installments) after giving a down payment. This is usually calculated by simply subtracting the down payment from the cost of the car. However, Tritonmobile is offering a special discount for UCSD students called the Triton discount that lowers the principal even further. The higher the down payment, then the higher the discount. The Triton discount is determined by the table below.\n",
    "\n",
    "| Down Payment as Percentage of Cost | Triton Discount |\n",
    "| --- | --- |\n",
    "| [0%, 10%) | 2% |\n",
    "| [10%, 20%) | 5% |\n",
    "| [20%, 30%) | 9% |\n",
    "| [30%, 40%) | 14% |\n",
    "| 40% or above | 20% |\n",
    "\n",
    "Note that the notation $[a, b)$ means \"greater than or equal to $a$ and less than $b$\". For example, a down payment that is equal to 10% of the total payment earns the buyer a 2% Triton discount, but 10.1% earns a 5% discount.\n",
    "\n",
    "For our example, a down payment of \\\\$5,000 on a \\\\$20,000 car means the down payment already covers 25% of the cost of the car. According to the table above, with 25% of the cost of the car already covered by the down payment, the Triton discount is 9%. This discount is applied to the remaining balance of the car after the down payment, which is \\$15,000. So the buyer gets an additional discount of \\\\$1,350, which comes from 9\\% of \\\\$15,000. This means that instead of having to pay off \\\\$15,000 through monthly installments, they only need to pay off \\\\$13,650 (which is \\\\$1,350 less than \\\\$15,000).\n",
    "\n",
    "3. **Calculate the monthly payment based on the interest rate and principal.** The formula below details how to calculate the monthly payment. This is called the *annuity* formula and it's widely used to determine monthly loan payments, a process known as [*amortization*](https://en.wikipedia.org/wiki/Amortization_calculator). \n",
    "    \n",
    "$$ \\text{monthly car payment} = \\text{principal} \\cdot\\frac{\\frac{\\text{interest}}{12}}{1-\\left(1+ \\frac{\\text{interest}}{12}\\right)^{-\\text{number of months}}}$$\n",
    "\n",
    "For this example, we previously calculated the interest rate to be 6.9\\% (or 0.069 as a proportion) and the principal to be \\\\$13,650. A five year loan is 60 months. Plugging these values into the formula yields $270, which is the monthly payment.\n",
    "\n",
    "Now that you know how monthly loan payments are calculated, let's build our loan payment calculator!"
   ]
  },
  {
   "cell_type": "markdown",
   "metadata": {},
   "source": [
    "**Question 3.1.** Complete the implementation of the function `calculate_interest`, which takes in a credit score (`score`) and returns the corresponding interest rate as a **proportion**. For instance, `calculate_interest(750)` should evaluate to `.069` and `calculate_interest(781)` should evaluate to `.056`.\n",
    "\n",
    "For you convenience, the interest table is shown again below.\n",
    "\n",
    "| Credit Rating |  Credit Score |Interest Rate |\n",
    "| --- | --- | --- |\n",
    "| super prime | 781 and above | 5.6% |\n",
    "| prime | 661 to 780 | 6.9% |\n",
    "| near prime | 601 to 660 |  9.3% |\n",
    "| subprime | 501 to 600 |  11.9% |\n",
    "| deep subprime | up to 500 | 14.2% |\n",
    "\n",
    "***Hint:*** Use `elif`."
   ]
  },
  {
   "cell_type": "code",
   "execution_count": 50,
   "metadata": {
    "tags": []
   },
   "outputs": [],
   "source": [
    "def calculate_interest(score):  \n",
    "    ...\n",
    "\n",
    "# Feel free to change the line below to try other examples.\n",
    "calculate_interest(750) # should be 0.069"
   ]
  },
  {
   "cell_type": "code",
   "execution_count": null,
   "metadata": {
    "deletable": false,
    "editable": false
   },
   "outputs": [],
   "source": [
    "grader.check(\"q3_1\")"
   ]
  },
  {
   "cell_type": "markdown",
   "metadata": {},
   "source": [
    "**Question 3.2.** Next, you need to calculate the Triton discount and the resulting principal for the loan. Complete the implementation of the function `calculate_principal`, which takes in the price of a car (`price`) and a down payment (`down_payment`) and returns the **principal after the Triton discount**. For instance, `calculate_principal(20_000, 5_000)` should evaluate to `13650.0` as calculated in the example above. For your convenience, the Triton discount table is shown again below.\n",
    "\n",
    "| Down Payment as Percentage of Cost | Triton Discount |\n",
    "| --- | --- |\n",
    "| [0%, 10%) | 2% |\n",
    "| [10%, 20%) | 5% |\n",
    "| [20%, 30%) | 9% |\n",
    "| [30%, 40%) | 14% |\n",
    "| 40% or above | 20% |\n",
    "\n",
    "***Hint:*** There are 3 steps to this process:\n",
    "1. Calculate the percentage of the total payment that is covered by the down payment (e.g. a \\\\$5,000 down payment covers 25\\% of a \\\\$20,000 car).\n",
    "2. Use the table above to determine the Triton discount (e.g. if 25\\% of the price is covered by the down payment, the Triton discount is 9\\%).\n",
    "3. Calculate the principal after the discount. Remember that the discount is applied to the price of the car less the down payment amount (e.g. with a 9\\% discount, the balance of \\\\$5,000 yields a principal of \\\\$13650)."
   ]
  },
  {
   "cell_type": "code",
   "execution_count": 58,
   "metadata": {
    "tags": []
   },
   "outputs": [],
   "source": [
    "def calculate_principal(price, down_payment):  \n",
    "    ...\n",
    "\n",
    "# Feel free to change the line below to try other examples.\n",
    "calculate_principal(20_000, 5_000) # should be 13650.0"
   ]
  },
  {
   "cell_type": "code",
   "execution_count": null,
   "metadata": {
    "deletable": false,
    "editable": false
   },
   "outputs": [],
   "source": [
    "grader.check(\"q3_2\")"
   ]
  },
  {
   "cell_type": "markdown",
   "metadata": {},
   "source": [
    "**Question 3.3.** Finally, complete the implementation of the function `monthly_payment`, which takes in the price of a car (`price`), a down payment (`down_payment`), and a credit score (`score`), and returns the monthly payment amount, **rounded to the nearest integer**. For example, a \\\\$20,000 car with a \\\\$5,000 down payment and a 750 credit score should produce a monthly payment of \\\\$270. For your convenience, the monthly payment formula is shown here again.\n",
    "\n",
    "$$ \\text{monthly car payment} = \\text{principal} \\cdot\\frac{\\frac{\\text{interest}}{12}}{1-\\left(1+ \\frac{\\text{interest}}{12}\\right)^{-\\text{number of months}}}$$\n",
    "\n",
    "\n",
    "***Notes:***\n",
    "- In this formula, the denominator is raised to the *negative* power of the number of months on the loan.\n",
    "- All Tritonmobile loans are all paid over 5 years, or 60 months.\n",
    "- You should use both of the functions you implemented in 3.1 and 3.2."
   ]
  },
  {
   "cell_type": "code",
   "execution_count": 64,
   "metadata": {
    "tags": []
   },
   "outputs": [],
   "source": [
    "def monthly_payment(price, down_payment, score): \n",
    "    ...\n",
    "\n",
    "# Feel free to change the line below to try other examples.\n",
    "monthly_payment(20_000, 5_000, 750) # should be 270"
   ]
  },
  {
   "cell_type": "code",
   "execution_count": null,
   "metadata": {
    "deletable": false,
    "editable": false
   },
   "outputs": [],
   "source": [
    "grader.check(\"q3_3\")"
   ]
  },
  {
   "cell_type": "markdown",
   "metadata": {},
   "source": [
    "### Final Product\n",
    "\n",
    "You just did all of the math necessary to build a car payment calculator, like the ones you see on many dealership websites. Charlie used your functions to create this interactive widget for the Tritonmobile website. Run the following cell once you've completed the rest of this question!"
   ]
  },
  {
   "cell_type": "code",
   "execution_count": 69,
   "metadata": {
    "tags": []
   },
   "outputs": [],
   "source": [
    "# Don't worry about the code, just play with the slider that appears after running.\n",
    "def plot_car_payment_calculator(price, down_pay, credit_score):\n",
    "    s = f'''\n",
    "    <h1>Tritonmobile Car Payment Calculator 🚘 </h1>\n",
    "    <h4>{'${:,.2f}'.format(price)}</h4>\n",
    "    Total Car Price\n",
    "    <h4>{'${:,.2f}'.format(down_pay)}</h4>\n",
    "    Down Payment\n",
    "    <h4>{'{:,.0f}'.format(credit_score)}</h4>\n",
    "    Credit Score\n",
    "    \n",
    "    <h1>{'${:,.0f}'.format(monthly_payment(price, down_pay, credit_score))}</h2>\n",
    "    Your Monthly Payment\n",
    "    \n",
    "    '''\n",
    "    display(HTML(s))\n",
    "    \n",
    "interact(plot_car_payment_calculator, price=(10_000, 50_000, 1000), down_pay=(0, 10_000, 100), credit_score=(300, 850, 1));\n",
    "\n"
   ]
  },
  {
   "cell_type": "markdown",
   "metadata": {},
   "source": [
    "## 4. Wordle 🟨 ⬛ 🟨 🟩 ⬛\n",
    "\n",
    "\n",
    "<img src = \"data/wordle_example.jpg\" width=200>\n",
    "\n",
    "[Wordle](https://www.nytimes.com/games/wordle/index.html) is a word-guessing game that became extremely popular at the end of 2021. Players have six tries to guess a five-letter word. To play, you first enter a guess for the five-letter word. After you make your guess, each letter of your guess will be highlighted with a color-coded square as follows:\n",
    "\n",
    "- A black square ⬛ means that this letter is **not** in the word at all.  \n",
    "- A yellow square 🟨 means that this letter is in the word, but in a **different position**.  \n",
    "- A green square means 🟩 the letter is in the **correct position**.\n",
    "\n",
    "In this question, you will replicate some of that behavior using `for`-loops. We'll make a simplifying assumption that's not present in the real Wordle game: the answer word will always have five **different** letters and every guess must also have five **different** letters.\n",
    "\n",
    "We'll represent Wordle results as a string of five colored square emojis. Emojis can be included in strings, just like letters, numbers, and punctuation! \n",
    "\n",
    "For example, if the answer word is `'STEIN'` and your guess is `'SCALE'`, as shown in the image above, your results can be represented by the string `'🟩⬛⬛⬛🟨'`. \n",
    "\n",
    "The array `emojis` defined below contains all the symbols we'll need to construct such strings."
   ]
  },
  {
   "cell_type": "code",
   "execution_count": 70,
   "metadata": {},
   "outputs": [],
   "source": [
    "emojis = np.array(['⬛', '🟨', '🟩'])\n",
    "emojis"
   ]
  },
  {
   "cell_type": "markdown",
   "metadata": {},
   "source": [
    "Recall, in [Lecture 10](https://dsc10.com/resources/lectures/lec10/lec10.html), we introduced the accumulator pattern. In the coin-flipping example, we started with an empty array, and added to it in each iteration of our `for`-loop.\n",
    "\n",
    "We can also use the accumulator pattern for strings, by starting with an empty string, and repeatedly adding onto it via concatenation. Here's an example that loops through the letters in a word and replaces certain letters with colored square emojis."
   ]
  },
  {
   "cell_type": "code",
   "execution_count": 71,
   "metadata": {},
   "outputs": [],
   "source": [
    "output = ''\n",
    "for ch in 'goodbye':\n",
    "    if ch == 'b':\n",
    "        output = output + emojis[0] # add a black square\n",
    "    elif ch == 'y':\n",
    "        output = output + emojis[1] # add a yellow square\n",
    "    elif ch == 'g':\n",
    "        output = output + emojis[2] # add a green square\n",
    "        \n",
    "    else:\n",
    "        output = output + ch\n",
    "output"
   ]
  },
  {
   "cell_type": "markdown",
   "metadata": {},
   "source": [
    "In the above example, we started with an empty string, `output`. For each character of the string `'goodbye'`, we added a single new character to `output`, depending on whether we saw `'g'`, `'b'`, `'y'`, or something else."
   ]
  },
  {
   "cell_type": "markdown",
   "metadata": {},
   "source": [
    "**Question 4.1.** Now, complete the implementation of the function `emojify`, which takes as input two five-letter strings, each having no repeated letters. The first input string, `guess`, should be cross-checked with each letter of the second input string, `answer`. The function should return a new string, formed entirely of emojis from  the `emojis` array, that indicates the accuracy of each letter in the guess, as described in the rules above. For example, let's say the `answer` string is `'shark'`. Here is how the function would work on various example guesses.\n",
    "\n",
    "```py\n",
    ">>> emojify('crept', 'shark')\n",
    "'⬛🟨⬛⬛⬛'\n",
    "\n",
    ">>> emojify('chalk', 'shark')\n",
    "'⬛🟩🟩⬛🟩'\n",
    "\n",
    ">>> emojify('harks', 'shark')\n",
    "'🟨🟨🟨🟨🟨'\n",
    "\n",
    ">>> emojify('sharp', 'shark')\n",
    "'🟩🟩🟩🟩⬛'\n",
    "\n",
    ">>> emojify('shark', 'shark')\n",
    "'🟩🟩🟩🟩🟩'\n",
    "```\n",
    "\n",
    "***Note:*** As we did in the preceding example, use the array `emojis` to access the emojis – don't actually include any colored square emojis in the code you write below.\n",
    "\n",
    "***Hints:***\n",
    "- Look at the slide titled *Ranges* in [Lecture 10](https://dsc10.com/resources/lectures/lec10/lec10.html#Ranges) for guidance.\n",
    "- You'll need to use the `in` keyword, which we also introduced in Lecture 10.\n",
    "- Remember to write a general function that works for any answer word, not just `'shark'`."
   ]
  },
  {
   "cell_type": "code",
   "execution_count": 72,
   "metadata": {},
   "outputs": [],
   "source": [
    "def emojify(guess, answer):\n",
    "    # This line ensures your code works correctly regardless of \n",
    "    # whether the message is in upper case or lower case.\n",
    "    guess = guess.lower()\n",
    "\n",
    "    # Empty string to add on to.\n",
    "    emoji_output_string = '' \n",
    "    \n",
    "    # You'll need to complete the body of this for loop.\n",
    "    for i in range(len(guess)):\n",
    "    ...\n",
    "    \n",
    "    # Don't change this\n",
    "    return emoji_output_string\n",
    "\n",
    "# An example call to emojify. Try out some other words, too.\n",
    "emojify('crept', 'shark')"
   ]
  },
  {
   "cell_type": "code",
   "execution_count": null,
   "metadata": {
    "deletable": false,
    "editable": false
   },
   "outputs": [],
   "source": [
    "grader.check(\"q4_1\")"
   ]
  },
  {
   "cell_type": "markdown",
   "metadata": {},
   "source": [
    "### Final Product\n",
    "\n",
    "You just implemented the logic for a Wordle game. Let's try it out! Run the following cell once you've completed the rest of this question, and you'll see a text box. Type a five-letter word with no repeated letters to guess the secret answer word. You can change your guess by backspacing and typing in a different guess for the same answer word. \n",
    "\n",
    "You can play the game more than once by running the cell again to generate a new answer word."
   ]
  },
  {
   "cell_type": "code",
   "execution_count": 79,
   "metadata": {},
   "outputs": [],
   "source": [
    "\n",
    "answer = np.random.choice(answer_words)\n",
    "def emojify_live(guess):\n",
    "    result = emojify(guess, answer)\n",
    "    display(HTML('<h3>' + result + '</h3>'))\n",
    "    if result == '🟩🟩🟩🟩🟩':\n",
    "        display(HTML('<h3> You win! </h3>'))\n",
    "display(HTML('<h2> Let\\'s play Wordle! </h2>'))\n",
    "interact(emojify_live, guess=\"\");"
   ]
  },
  {
   "cell_type": "markdown",
   "metadata": {},
   "source": [
    "## 5. Triton Spirit Night Lotto 🔱 🏀 \n",
    "\n",
    "<img src = \"data/spirit_night.jpg\" width=700>\n",
    "\n",
    "Suppose UCSD holds a lottery in celebration of the men's basketball team's [exciting win at Spirit Night](https://ucsdtritons.com/news/2024/1/25/mens-basketball-tritons-hang-on-for-spirit-night-win.aspx). In this lottery, students can enter to win Triton Cash, or even free housing! Here's how the Spirit Night Lotto works:\n",
    "\n",
    "- First, you pick five **different** numbers, one at a time, from 1 to 66, representing the winning score at the Spirit Night game.\n",
    "- Then, you separately pick a number from 1 to 15. This is because the top scoring athlete (Bryce Pope) scored 15 points during the game. Let's say you select 9.\n",
    "- The six numbers you have selected, or  **your numbers**, can be represented all together as (7, 32, 24, 65, 13, 9). This is a _sequence_ of six numbers – **order matters**!\n",
    "\n",
    "The **winning numbers** are chosen by King Triton, who draws five balls, one at a time, **without replacement**, from a pot of white balls numbered 1 to 66. Then, he draws a gold ball, the Tritonball, from a pot of gold balls numbered 1 to 15. Both pots are completely separate, hence the different ball colors. For example, maybe the winning numbers are (65, 9, 24, 23, 1, 9).\n",
    "\n",
    "We’ll assume for this problem that in order to win the grand prize (free housing), all six of your numbers need to match the winning numbers and be in the **exact same positions**. In other words, your entire sequence of numbers must be exactly the same as King Triton's sequence of winning numbers. However, if some numbers in your sequence match up with the corresponding number in the winning sequence, you will still win some Triton Cash. \n",
    "\n",
    "Suppose again that you select (7, 32, 24, 65, 13, 9) and the winning numbers are (65, 9, 24, 23, 1, 9). In this case, two of your numbers are considered to match two of the winning numbers. \n",
    "- Your numbers: (7, 32, **24**, 65, 13, **9**)\n",
    "- Winning numbers: (65, 9, **24**, 23, 1, **9**)\n",
    "\n",
    "You won't win free housing, but you will win some Triton Cash. Note that although both sequences include the number 65 within the first five numbers (representing a white ball), since they are in different positions, that's not considered a match.\n"
   ]
  },
  {
   "cell_type": "markdown",
   "metadata": {},
   "source": [
    "**Question 5.1.** What is the probability that your Tritonball number (the last number in your sequence) matches the winning Tritonball number? Calculate your answer and assign it to `tritonball_chance`. If you need to do any calculations (e.g. multiplication or division), make Python do it; don't use a separate calculator. Your result should be a decimal number between 0 and 1."
   ]
  },
  {
   "cell_type": "code",
   "execution_count": 80,
   "metadata": {},
   "outputs": [],
   "source": [
    "tritonball_chance = ...\n",
    "tritonball_chance"
   ]
  },
  {
   "cell_type": "code",
   "execution_count": null,
   "metadata": {
    "deletable": false,
    "editable": false
   },
   "outputs": [],
   "source": [
    "grader.check(\"q5_1\")"
   ]
  },
  {
   "cell_type": "markdown",
   "metadata": {},
   "source": [
    "**Question 5.2.** What is the probability that your first two numbers match King Triton's first two winning numbers **and** your Tritonball number matches the winning Tritonball number? Calculate your answer and assign it to `first_two_and_tritonball_chance`. If you need to do any calculations (e.g. multiplication or division), make Python do it; don't use a separate calculator. Your result should be a decimal number between 0 and 1.\n",
    "\n",
    "***Hint:*** You need **all three** of the numbers to match. What probability rule should you use?"
   ]
  },
  {
   "cell_type": "code",
   "execution_count": 84,
   "metadata": {},
   "outputs": [],
   "source": [
    "first_two_and_tritonball_chance = ...\n",
    "first_two_and_tritonball_chance"
   ]
  },
  {
   "cell_type": "code",
   "execution_count": null,
   "metadata": {
    "deletable": false,
    "editable": false
   },
   "outputs": [],
   "source": [
    "grader.check(\"q5_2\")"
   ]
  },
  {
   "cell_type": "markdown",
   "metadata": {},
   "source": [
    "**Question 5.3.** What is the probability that you win the grand prize, free housing? Calculate your answer and assign it to `free_housing_chance`. If you need to do any calculations (e.g. multiplication or division), make Python do it; don't use a separate calculator. Your result should be a decimal number between 0 and 1.\n",
    "\n",
    "***Hint:*** When you select a ball without replacement, what happens to the total number of balls you can select next time?"
   ]
  },
  {
   "cell_type": "code",
   "execution_count": 88,
   "metadata": {},
   "outputs": [],
   "source": [
    "free_housing_chance = ...\n",
    "free_housing_chance"
   ]
  },
  {
   "cell_type": "code",
   "execution_count": null,
   "metadata": {
    "deletable": false,
    "editable": false
   },
   "outputs": [],
   "source": [
    "grader.check(\"q5_3\")"
   ]
  },
  {
   "cell_type": "markdown",
   "metadata": {},
   "source": [
    "**Question 5.4.** What is the probability that you do **not** win free housing? Calculate your answer and assign it to `no_free_housing_chance`. If you need to do any calculations (e.g. multiplication or division), make Python do it; don't use a separate calculator. Your result should be a decimal number between 0 and 1."
   ]
  },
  {
   "cell_type": "code",
   "execution_count": 92,
   "metadata": {
    "scrolled": true
   },
   "outputs": [],
   "source": [
    "no_free_housing_chance = ...\n",
    "no_free_housing_chance"
   ]
  },
  {
   "cell_type": "code",
   "execution_count": null,
   "metadata": {
    "deletable": false,
    "editable": false
   },
   "outputs": [],
   "source": [
    "grader.check(\"q5_4\")"
   ]
  },
  {
   "cell_type": "markdown",
   "metadata": {},
   "source": [
    "## Finish Line: Almost there, but make sure to follow the steps below to submit! 🏁\n",
    "\n",
    "**_Citations:_** Did you use any generative artificial intelligence tools to assist you on this assignment? If so, please state, for each tool you used, the name of the tool (ex. ChatGPT) and the problem(s) in this assignment where you used the tool for help."
   ]
  },
  {
   "cell_type": "markdown",
   "metadata": {},
   "source": [
    "<hr style=\"color:Maroon;background-color:Maroon;border:0 none; height: 3px;\">\n",
    "\n",
    "Please cite tools here.\n",
    "\n",
    "<hr style=\"color:Maroon;background-color:Maroon;border:0 none; height: 3px;\">"
   ]
  },
  {
   "cell_type": "markdown",
   "metadata": {},
   "source": [
    "To submit your assignment:\n",
    "\n",
    "1. Select `Kernel -> Restart & Run All` to ensure that you have executed all cells, including the test cells.\n",
    "1. Read through the notebook to make sure everything is fine and all tests passed.\n",
    "1. Run the cell below to run all tests, and make sure that they all pass.\n",
    "1. Download your notebook using `File -> Download as -> Notebook (.ipynb)`, then upload your notebook to Gradescope.\n",
    "1. Stick around while the Gradescope autograder grades your work. Make sure you see that all tests have passed on Gradescope.\n",
    "1. Check that you have a confirmation email from Gradescope and save it as proof of your submission."
   ]
  },
  {
   "cell_type": "code",
   "execution_count": null,
   "metadata": {},
   "outputs": [],
   "source": [
    "grader.check_all()"
   ]
  }
 ],
 "metadata": {
  "kernelspec": {
   "display_name": "Python 3 (ipykernel)",
   "language": "python",
   "name": "python3"
  },
  "language_info": {
   "codemirror_mode": {
    "name": "ipython",
    "version": 3
   },
   "file_extension": ".py",
   "mimetype": "text/x-python",
   "name": "python",
   "nbconvert_exporter": "python",
   "pygments_lexer": "ipython3",
   "version": "3.9.5"
  }
 },
 "nbformat": 4,
 "nbformat_minor": 4
}
